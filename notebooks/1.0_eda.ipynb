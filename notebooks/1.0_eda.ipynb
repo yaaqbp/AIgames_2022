{
 "cells": [
  {
   "cell_type": "code",
   "execution_count": 5,
   "metadata": {},
   "outputs": [
    {
     "name": "stdout",
     "output_type": "stream",
     "text": [
      "cwd: /Users/jakubpietraszek/python/AIgames\n"
     ]
    }
   ],
   "source": [
    "import sys\n",
    "sys.path.append('..')\n",
    "\n",
    "from utils import utils\n",
    "utils.set_dir()\n",
    "\n",
    "import pandas as pd\n",
    "from glob import glob"
   ]
  },
  {
   "cell_type": "code",
   "execution_count": 6,
   "metadata": {},
   "outputs": [
    {
     "name": "stdout",
     "output_type": "stream",
     "text": [
      "data/decrypted/trajectory_prediction/trajectory_challenge/train_flights.csv\n",
      "data/decrypted/trajectory_prediction/trajectory_challenge/test_flights.csv\n",
      "data/decrypted/trajectory_prediction/trajectory_challenge/VIL_merc.zip\n",
      "data/decrypted/trajectory_prediction/trajectory_challenge/test_flights_100.csv\n",
      "data/decrypted/trajectory_prediction/trajectory_challenge/routes\n",
      "data/decrypted/trajectory_prediction/trajectory_challenge/train_trajectories\n",
      "data/decrypted/trajectory_prediction/trajectory_challenge/routes/flp_dReFPP5csDnBS3XAwimLwD.csv\n",
      "data/decrypted/trajectory_prediction/trajectory_challenge/routes/flp_ZiAMshZFiijyVJ86AsJ8nP.csv\n",
      "data/decrypted/trajectory_prediction/trajectory_challenge/routes/flp_4zCeo8aEKf9dGH4RuewX5S.csv\n",
      "data/decrypted/trajectory_prediction/trajectory_challenge/routes/flp_GTQ2jGmoftYYXoy4ufQ6DM.csv\n",
      "data/decrypted/trajectory_prediction/trajectory_challenge/routes/flp_FGzhpCEQyninyPrKME4dA4.csv\n",
      "data/decrypted/trajectory_prediction/trajectory_challenge/routes/flp_FACJ9gcHyZ2THhNQUj2mJS.csv\n",
      "data/decrypted/trajectory_prediction/trajectory_challenge/routes/flp_k4dN9xNPPsjftabsx5u7At.csv\n",
      "data/decrypted/trajectory_prediction/trajectory_challenge/routes/flp_6XjGzFUzsLXVUutuQpwMN6.csv\n",
      "data/decrypted/trajectory_prediction/trajectory_challenge/routes/flp_J9U5wfvkDpXUBNHt82jizD.csv\n",
      "data/decrypted/trajectory_prediction/trajectory_challenge/routes/flp_DJ222kZYLyE9uiEoCpC4DW.csv\n",
      "data/decrypted/trajectory_prediction/trajectory_challenge/routes/flp_RhazmBeR4ZVEpcHf5B5BaN.csv\n"
     ]
    }
   ],
   "source": [
    "DATA_PATH = 'data/decrypted/trajectory_prediction/trajectory_challenge/'\n",
    "ROUTES_PATH = DATA_PATH+'routes/'\n",
    "TRAIN_PATH = DATA_PATH+'train_trajectories/'\n",
    "for file in glob(DATA_PATH+\"*\"):\n",
    "    print(file)\n",
    "\n",
    "for idx, file in enumerate(glob(ROUTES_PATH+\"*\")):\n",
    "    print(file)\n",
    "    if idx == 10:\n",
    "        break\n"
   ]
  },
  {
   "cell_type": "code",
   "execution_count": null,
   "metadata": {},
   "outputs": [],
   "source": []
  },
  {
   "cell_type": "code",
   "execution_count": 7,
   "metadata": {},
   "outputs": [
    {
     "data": {
      "text/html": [
       "<div>\n",
       "<style scoped>\n",
       "    .dataframe tbody tr th:only-of-type {\n",
       "        vertical-align: middle;\n",
       "    }\n",
       "\n",
       "    .dataframe tbody tr th {\n",
       "        vertical-align: top;\n",
       "    }\n",
       "\n",
       "    .dataframe thead th {\n",
       "        text-align: right;\n",
       "    }\n",
       "</style>\n",
       "<table border=\"1\" class=\"dataframe\">\n",
       "  <thead>\n",
       "    <tr style=\"text-align: right;\">\n",
       "      <th></th>\n",
       "      <th>track_timestamp</th>\n",
       "      <th>lat</th>\n",
       "      <th>lon</th>\n",
       "    </tr>\n",
       "  </thead>\n",
       "  <tbody>\n",
       "    <tr>\n",
       "      <th>0</th>\n",
       "      <td>2022-07-15 21:26:54+00:00</td>\n",
       "      <td>30.909988</td>\n",
       "      <td>-95.253992</td>\n",
       "    </tr>\n",
       "    <tr>\n",
       "      <th>1</th>\n",
       "      <td>2022-07-15 21:26:55+00:00</td>\n",
       "      <td>30.911880</td>\n",
       "      <td>-95.255720</td>\n",
       "    </tr>\n",
       "    <tr>\n",
       "      <th>2</th>\n",
       "      <td>2022-07-15 21:26:56+00:00</td>\n",
       "      <td>30.913760</td>\n",
       "      <td>-95.257440</td>\n",
       "    </tr>\n",
       "    <tr>\n",
       "      <th>3</th>\n",
       "      <td>2022-07-15 21:26:57+00:00</td>\n",
       "      <td>30.915650</td>\n",
       "      <td>-95.259160</td>\n",
       "    </tr>\n",
       "    <tr>\n",
       "      <th>4</th>\n",
       "      <td>2022-07-15 21:26:58+00:00</td>\n",
       "      <td>30.917542</td>\n",
       "      <td>-95.260889</td>\n",
       "    </tr>\n",
       "    <tr>\n",
       "      <th>...</th>\n",
       "      <td>...</td>\n",
       "      <td>...</td>\n",
       "      <td>...</td>\n",
       "    </tr>\n",
       "    <tr>\n",
       "      <th>1802</th>\n",
       "      <td>2022-07-15 21:56:56+00:00</td>\n",
       "      <td>32.900330</td>\n",
       "      <td>-97.026080</td>\n",
       "    </tr>\n",
       "    <tr>\n",
       "      <th>1803</th>\n",
       "      <td>2022-07-15 21:56:57+00:00</td>\n",
       "      <td>32.899840</td>\n",
       "      <td>-97.026090</td>\n",
       "    </tr>\n",
       "    <tr>\n",
       "      <th>1804</th>\n",
       "      <td>2022-07-15 21:56:58+00:00</td>\n",
       "      <td>32.899380</td>\n",
       "      <td>-97.026070</td>\n",
       "    </tr>\n",
       "    <tr>\n",
       "      <th>1805</th>\n",
       "      <td>2022-07-15 21:56:59+00:00</td>\n",
       "      <td>32.899160</td>\n",
       "      <td>-97.026060</td>\n",
       "    </tr>\n",
       "    <tr>\n",
       "      <th>1806</th>\n",
       "      <td>2022-07-15 21:57:00+00:00</td>\n",
       "      <td>32.898940</td>\n",
       "      <td>-97.026060</td>\n",
       "    </tr>\n",
       "  </tbody>\n",
       "</table>\n",
       "<p>1807 rows × 3 columns</p>\n",
       "</div>"
      ],
      "text/plain": [
       "                track_timestamp        lat        lon\n",
       "0     2022-07-15 21:26:54+00:00  30.909988 -95.253992\n",
       "1     2022-07-15 21:26:55+00:00  30.911880 -95.255720\n",
       "2     2022-07-15 21:26:56+00:00  30.913760 -95.257440\n",
       "3     2022-07-15 21:26:57+00:00  30.915650 -95.259160\n",
       "4     2022-07-15 21:26:58+00:00  30.917542 -95.260889\n",
       "...                         ...        ...        ...\n",
       "1802  2022-07-15 21:56:56+00:00  32.900330 -97.026080\n",
       "1803  2022-07-15 21:56:57+00:00  32.899840 -97.026090\n",
       "1804  2022-07-15 21:56:58+00:00  32.899380 -97.026070\n",
       "1805  2022-07-15 21:56:59+00:00  32.899160 -97.026060\n",
       "1806  2022-07-15 21:57:00+00:00  32.898940 -97.026060\n",
       "\n",
       "[1807 rows x 3 columns]"
      ]
     },
     "execution_count": 7,
     "metadata": {},
     "output_type": "execute_result"
    }
   ],
   "source": [
    "pd.read_csv(glob(TRAIN_PATH+'*')[0])"
   ]
  },
  {
   "cell_type": "code",
   "execution_count": 8,
   "metadata": {},
   "outputs": [
    {
     "ename": "ModuleNotFoundError",
     "evalue": "No module named 'fast_frechet_main'",
     "output_type": "error",
     "traceback": [
      "\u001b[0;31m---------------------------------------------------------------------------\u001b[0m",
      "\u001b[0;31mModuleNotFoundError\u001b[0m                       Traceback (most recent call last)",
      "\u001b[1;32m/Users/jakubpietraszek/python/AIgames/notebooks/1.0_eda.ipynb Cell 5\u001b[0m in \u001b[0;36m<cell line: 1>\u001b[0;34m()\u001b[0m\n\u001b[0;32m----> <a href='vscode-notebook-cell:/Users/jakubpietraszek/python/AIgames/notebooks/1.0_eda.ipynb#W6sZmlsZQ%3D%3D?line=0'>1</a>\u001b[0m \u001b[39mfrom\u001b[39;00m \u001b[39mfast_frechet_main\u001b[39;00m \u001b[39mimport\u001b[39;00m frechet\n",
      "\u001b[0;31mModuleNotFoundError\u001b[0m: No module named 'fast_frechet_main'"
     ]
    }
   ],
   "source": [
    "from fast_frechet_main import frechet"
   ]
  },
  {
   "cell_type": "code",
   "execution_count": 9,
   "metadata": {},
   "outputs": [
    {
     "ename": "RuntimeError",
     "evalue": "module compiled against API version 0x10 but this version of numpy is 0xe",
     "output_type": "error",
     "traceback": [
      "\u001b[0;31m---------------------------------------------------------------------------\u001b[0m",
      "\u001b[0;31mRuntimeError\u001b[0m                              Traceback (most recent call last)",
      "\u001b[0;31mRuntimeError\u001b[0m: module compiled against API version 0x10 but this version of numpy is 0xe"
     ]
    },
    {
     "ename": "ImportError",
     "evalue": "numpy.core.multiarray failed to import",
     "output_type": "error",
     "traceback": [
      "\u001b[0;31m---------------------------------------------------------------------------\u001b[0m",
      "\u001b[0;31mImportError\u001b[0m                               Traceback (most recent call last)",
      "\u001b[1;32m/Users/jakubpietraszek/python/AIgames/notebooks/1.0_eda.ipynb Cell 6\u001b[0m in \u001b[0;36m<cell line: 1>\u001b[0;34m()\u001b[0m\n\u001b[0;32m----> <a href='vscode-notebook-cell:/Users/jakubpietraszek/python/AIgames/notebooks/1.0_eda.ipynb#X15sZmlsZQ%3D%3D?line=0'>1</a>\u001b[0m \u001b[39mimport\u001b[39;00m \u001b[39mnumba\u001b[39;00m\n",
      "File \u001b[0;32m/opt/miniconda3/envs/AIgames/lib/python3.8/site-packages/numba/__init__.py:38\u001b[0m, in \u001b[0;36m<module>\u001b[0;34m\u001b[0m\n\u001b[1;32m     35\u001b[0m \u001b[39mfrom\u001b[39;00m \u001b[39mnumba\u001b[39;00m\u001b[39m.\u001b[39;00m\u001b[39mcore\u001b[39;00m\u001b[39m.\u001b[39;00m\u001b[39mtypes\u001b[39;00m \u001b[39mimport\u001b[39;00m \u001b[39m*\u001b[39m\n\u001b[1;32m     37\u001b[0m \u001b[39m# Re-export decorators\u001b[39;00m\n\u001b[0;32m---> 38\u001b[0m \u001b[39mfrom\u001b[39;00m \u001b[39mnumba\u001b[39;00m\u001b[39m.\u001b[39;00m\u001b[39mcore\u001b[39;00m\u001b[39m.\u001b[39;00m\u001b[39mdecorators\u001b[39;00m \u001b[39mimport\u001b[39;00m (cfunc, generated_jit, jit, njit, stencil,\n\u001b[1;32m     39\u001b[0m                                    jit_module)\n\u001b[1;32m     41\u001b[0m \u001b[39m# Re-export vectorize decorators and the thread layer querying function\u001b[39;00m\n\u001b[1;32m     42\u001b[0m \u001b[39mfrom\u001b[39;00m \u001b[39mnumba\u001b[39;00m\u001b[39m.\u001b[39;00m\u001b[39mnp\u001b[39;00m\u001b[39m.\u001b[39;00m\u001b[39mufunc\u001b[39;00m \u001b[39mimport\u001b[39;00m (vectorize, guvectorize, threading_layer,\n\u001b[1;32m     43\u001b[0m                             get_num_threads, set_num_threads)\n",
      "File \u001b[0;32m/opt/miniconda3/envs/AIgames/lib/python3.8/site-packages/numba/core/decorators.py:12\u001b[0m, in \u001b[0;36m<module>\u001b[0;34m\u001b[0m\n\u001b[1;32m      9\u001b[0m \u001b[39mimport\u001b[39;00m \u001b[39mlogging\u001b[39;00m\n\u001b[1;32m     11\u001b[0m \u001b[39mfrom\u001b[39;00m \u001b[39mnumba\u001b[39;00m\u001b[39m.\u001b[39;00m\u001b[39mcore\u001b[39;00m\u001b[39m.\u001b[39;00m\u001b[39merrors\u001b[39;00m \u001b[39mimport\u001b[39;00m DeprecationError, NumbaDeprecationWarning\n\u001b[0;32m---> 12\u001b[0m \u001b[39mfrom\u001b[39;00m \u001b[39mnumba\u001b[39;00m\u001b[39m.\u001b[39;00m\u001b[39mstencils\u001b[39;00m\u001b[39m.\u001b[39;00m\u001b[39mstencil\u001b[39;00m \u001b[39mimport\u001b[39;00m stencil\n\u001b[1;32m     13\u001b[0m \u001b[39mfrom\u001b[39;00m \u001b[39mnumba\u001b[39;00m\u001b[39m.\u001b[39;00m\u001b[39mcore\u001b[39;00m \u001b[39mimport\u001b[39;00m config, extending, sigutils, registry\n\u001b[1;32m     15\u001b[0m _logger \u001b[39m=\u001b[39m logging\u001b[39m.\u001b[39mgetLogger(\u001b[39m__name__\u001b[39m)\n",
      "File \u001b[0;32m/opt/miniconda3/envs/AIgames/lib/python3.8/site-packages/numba/stencils/stencil.py:11\u001b[0m, in \u001b[0;36m<module>\u001b[0;34m\u001b[0m\n\u001b[1;32m      8\u001b[0m \u001b[39mimport\u001b[39;00m \u001b[39mnumpy\u001b[39;00m \u001b[39mas\u001b[39;00m \u001b[39mnp\u001b[39;00m\n\u001b[1;32m      9\u001b[0m \u001b[39mfrom\u001b[39;00m \u001b[39mllvmlite\u001b[39;00m \u001b[39mimport\u001b[39;00m ir \u001b[39mas\u001b[39;00m lir\n\u001b[0;32m---> 11\u001b[0m \u001b[39mfrom\u001b[39;00m \u001b[39mnumba\u001b[39;00m\u001b[39m.\u001b[39;00m\u001b[39mcore\u001b[39;00m \u001b[39mimport\u001b[39;00m types, typing, utils, ir, config, ir_utils, registry\n\u001b[1;32m     12\u001b[0m \u001b[39mfrom\u001b[39;00m \u001b[39mnumba\u001b[39;00m\u001b[39m.\u001b[39;00m\u001b[39mcore\u001b[39;00m\u001b[39m.\u001b[39;00m\u001b[39mtyping\u001b[39;00m\u001b[39m.\u001b[39;00m\u001b[39mtemplates\u001b[39;00m \u001b[39mimport\u001b[39;00m (CallableTemplate, signature,\n\u001b[1;32m     13\u001b[0m                                          infer_global, AbstractTemplate)\n\u001b[1;32m     14\u001b[0m \u001b[39mfrom\u001b[39;00m \u001b[39mnumba\u001b[39;00m\u001b[39m.\u001b[39;00m\u001b[39mcore\u001b[39;00m\u001b[39m.\u001b[39;00m\u001b[39mimputils\u001b[39;00m \u001b[39mimport\u001b[39;00m lower_builtin\n",
      "File \u001b[0;32m/opt/miniconda3/envs/AIgames/lib/python3.8/site-packages/numba/core/ir_utils.py:16\u001b[0m, in \u001b[0;36m<module>\u001b[0;34m\u001b[0m\n\u001b[1;32m     13\u001b[0m \u001b[39mfrom\u001b[39;00m \u001b[39mllvmlite\u001b[39;00m \u001b[39mimport\u001b[39;00m ir \u001b[39mas\u001b[39;00m lir\n\u001b[1;32m     15\u001b[0m \u001b[39mimport\u001b[39;00m \u001b[39mnumba\u001b[39;00m\n\u001b[0;32m---> 16\u001b[0m \u001b[39mfrom\u001b[39;00m \u001b[39mnumba\u001b[39;00m\u001b[39m.\u001b[39;00m\u001b[39mcore\u001b[39;00m\u001b[39m.\u001b[39;00m\u001b[39mextending\u001b[39;00m \u001b[39mimport\u001b[39;00m _Intrinsic\n\u001b[1;32m     17\u001b[0m \u001b[39mfrom\u001b[39;00m \u001b[39mnumba\u001b[39;00m\u001b[39m.\u001b[39;00m\u001b[39mcore\u001b[39;00m \u001b[39mimport\u001b[39;00m types, utils, typing, ir, analysis, postproc, rewrites, config, cgutils\n\u001b[1;32m     18\u001b[0m \u001b[39mfrom\u001b[39;00m \u001b[39mnumba\u001b[39;00m\u001b[39m.\u001b[39;00m\u001b[39mcore\u001b[39;00m\u001b[39m.\u001b[39;00m\u001b[39mtyping\u001b[39;00m\u001b[39m.\u001b[39;00m\u001b[39mtemplates\u001b[39;00m \u001b[39mimport\u001b[39;00m (signature, infer_global,\n\u001b[1;32m     19\u001b[0m                                          AbstractTemplate)\n",
      "File \u001b[0;32m/opt/miniconda3/envs/AIgames/lib/python3.8/site-packages/numba/core/extending.py:19\u001b[0m, in \u001b[0;36m<module>\u001b[0;34m\u001b[0m\n\u001b[1;32m     17\u001b[0m \u001b[39mfrom\u001b[39;00m \u001b[39mnumba\u001b[39;00m\u001b[39m.\u001b[39;00m\u001b[39mcore\u001b[39;00m\u001b[39m.\u001b[39;00m\u001b[39mdatamodel\u001b[39;00m \u001b[39mimport\u001b[39;00m models   \u001b[39m# noqa: F401\u001b[39;00m\n\u001b[1;32m     18\u001b[0m \u001b[39mfrom\u001b[39;00m \u001b[39mnumba\u001b[39;00m\u001b[39m.\u001b[39;00m\u001b[39mcore\u001b[39;00m\u001b[39m.\u001b[39;00m\u001b[39mdatamodel\u001b[39;00m \u001b[39mimport\u001b[39;00m register_default \u001b[39mas\u001b[39;00m register_model  \u001b[39m# noqa: F401, E501\u001b[39;00m\n\u001b[0;32m---> 19\u001b[0m \u001b[39mfrom\u001b[39;00m \u001b[39mnumba\u001b[39;00m\u001b[39m.\u001b[39;00m\u001b[39mcore\u001b[39;00m\u001b[39m.\u001b[39;00m\u001b[39mpythonapi\u001b[39;00m \u001b[39mimport\u001b[39;00m box, unbox, reflect, NativeValue  \u001b[39m# noqa: F401\u001b[39;00m\n\u001b[1;32m     20\u001b[0m \u001b[39mfrom\u001b[39;00m \u001b[39mnumba\u001b[39;00m\u001b[39m.\u001b[39;00m\u001b[39m_helperlib\u001b[39;00m \u001b[39mimport\u001b[39;00m _import_cython_function  \u001b[39m# noqa: F401\u001b[39;00m\n\u001b[1;32m     21\u001b[0m \u001b[39mfrom\u001b[39;00m \u001b[39mnumba\u001b[39;00m\u001b[39m.\u001b[39;00m\u001b[39mcore\u001b[39;00m\u001b[39m.\u001b[39;00m\u001b[39mserialize\u001b[39;00m \u001b[39mimport\u001b[39;00m ReduceMixin\n",
      "File \u001b[0;32m/opt/miniconda3/envs/AIgames/lib/python3.8/site-packages/numba/core/pythonapi.py:12\u001b[0m, in \u001b[0;36m<module>\u001b[0;34m\u001b[0m\n\u001b[1;32m      9\u001b[0m \u001b[39mimport\u001b[39;00m \u001b[39mllvmlite\u001b[39;00m\u001b[39m.\u001b[39;00m\u001b[39mllvmpy\u001b[39;00m\u001b[39m.\u001b[39;00m\u001b[39mcore\u001b[39;00m \u001b[39mas\u001b[39;00m \u001b[39mlc\u001b[39;00m\n\u001b[1;32m     11\u001b[0m \u001b[39mimport\u001b[39;00m \u001b[39mctypes\u001b[39;00m\n\u001b[0;32m---> 12\u001b[0m \u001b[39mfrom\u001b[39;00m \u001b[39mnumba\u001b[39;00m \u001b[39mimport\u001b[39;00m _helperlib\n\u001b[1;32m     13\u001b[0m \u001b[39mfrom\u001b[39;00m \u001b[39mnumba\u001b[39;00m\u001b[39m.\u001b[39;00m\u001b[39mcore\u001b[39;00m \u001b[39mimport\u001b[39;00m (\n\u001b[1;32m     14\u001b[0m     types, utils, config, lowering, cgutils, imputils, serialize,\n\u001b[1;32m     15\u001b[0m )\n\u001b[1;32m     17\u001b[0m PY_UNICODE_1BYTE_KIND \u001b[39m=\u001b[39m _helperlib\u001b[39m.\u001b[39mpy_unicode_1byte_kind\n",
      "\u001b[0;31mImportError\u001b[0m: numpy.core.multiarray failed to import"
     ]
    }
   ],
   "source": [
    "import numba"
   ]
  },
  {
   "cell_type": "code",
   "execution_count": null,
   "metadata": {},
   "outputs": [
    {
     "data": {
      "text/plain": [
       "'0.56.4'"
      ]
     },
     "execution_count": 77,
     "metadata": {},
     "output_type": "execute_result"
    }
   ],
   "source": [
    "numba.__version__"
   ]
  },
  {
   "cell_type": "code",
   "execution_count": 10,
   "metadata": {},
   "outputs": [
    {
     "ename": "RuntimeError",
     "evalue": "module compiled against API version 0x10 but this version of numpy is 0xe",
     "output_type": "error",
     "traceback": [
      "\u001b[0;31m---------------------------------------------------------------------------\u001b[0m",
      "\u001b[0;31mRuntimeError\u001b[0m                              Traceback (most recent call last)",
      "\u001b[0;31mRuntimeError\u001b[0m: module compiled against API version 0x10 but this version of numpy is 0xe"
     ]
    },
    {
     "ename": "ImportError",
     "evalue": "numpy.core.multiarray failed to import",
     "output_type": "error",
     "traceback": [
      "\u001b[0;31m---------------------------------------------------------------------------\u001b[0m",
      "\u001b[0;31mImportError\u001b[0m                               Traceback (most recent call last)",
      "\u001b[1;32m/Users/jakubpietraszek/python/AIgames/notebooks/1.0_eda.ipynb Cell 8\u001b[0m in \u001b[0;36m<cell line: 1>\u001b[0;34m()\u001b[0m\n\u001b[0;32m----> <a href='vscode-notebook-cell:/Users/jakubpietraszek/python/AIgames/notebooks/1.0_eda.ipynb#X10sZmlsZQ%3D%3D?line=0'>1</a>\u001b[0m \u001b[39mfrom\u001b[39;00m \u001b[39mutils\u001b[39;00m \u001b[39mimport\u001b[39;00m frechet\n",
      "File \u001b[0;32m~/python/AIgames/utils/frechet.py:3\u001b[0m, in \u001b[0;36m<module>\u001b[0;34m\u001b[0m\n\u001b[1;32m      1\u001b[0m \u001b[39mimport\u001b[39;00m \u001b[39mmath\u001b[39;00m\n\u001b[1;32m      2\u001b[0m \u001b[39mimport\u001b[39;00m \u001b[39mnumpy\u001b[39;00m \u001b[39mas\u001b[39;00m \u001b[39mnp\u001b[39;00m\n\u001b[0;32m----> 3\u001b[0m \u001b[39mfrom\u001b[39;00m \u001b[39mnumba\u001b[39;00m \u001b[39mimport\u001b[39;00m jit\n\u001b[1;32m      6\u001b[0m \u001b[39m@jit\u001b[39m(\u001b[39m'\u001b[39m\u001b[39mfloat64(float64[:], float64[:])\u001b[39m\u001b[39m'\u001b[39m, nopython\u001b[39m=\u001b[39m\u001b[39mTrue\u001b[39;00m, fastmath\u001b[39m=\u001b[39m\u001b[39mTrue\u001b[39;00m)\n\u001b[1;32m      7\u001b[0m \u001b[39mdef\u001b[39;00m \u001b[39m_euclidean\u001b[39m(p: np\u001b[39m.\u001b[39mndarray, q: np\u001b[39m.\u001b[39mndarray) \u001b[39m-\u001b[39m\u001b[39m>\u001b[39m \u001b[39mfloat\u001b[39m:\n\u001b[1;32m      8\u001b[0m     d \u001b[39m=\u001b[39m p \u001b[39m-\u001b[39m q\n",
      "File \u001b[0;32m/opt/miniconda3/envs/AIgames/lib/python3.8/site-packages/numba/__init__.py:38\u001b[0m, in \u001b[0;36m<module>\u001b[0;34m\u001b[0m\n\u001b[1;32m     35\u001b[0m \u001b[39mfrom\u001b[39;00m \u001b[39mnumba\u001b[39;00m\u001b[39m.\u001b[39;00m\u001b[39mcore\u001b[39;00m\u001b[39m.\u001b[39;00m\u001b[39mtypes\u001b[39;00m \u001b[39mimport\u001b[39;00m \u001b[39m*\u001b[39m\n\u001b[1;32m     37\u001b[0m \u001b[39m# Re-export decorators\u001b[39;00m\n\u001b[0;32m---> 38\u001b[0m \u001b[39mfrom\u001b[39;00m \u001b[39mnumba\u001b[39;00m\u001b[39m.\u001b[39;00m\u001b[39mcore\u001b[39;00m\u001b[39m.\u001b[39;00m\u001b[39mdecorators\u001b[39;00m \u001b[39mimport\u001b[39;00m (cfunc, generated_jit, jit, njit, stencil,\n\u001b[1;32m     39\u001b[0m                                    jit_module)\n\u001b[1;32m     41\u001b[0m \u001b[39m# Re-export vectorize decorators and the thread layer querying function\u001b[39;00m\n\u001b[1;32m     42\u001b[0m \u001b[39mfrom\u001b[39;00m \u001b[39mnumba\u001b[39;00m\u001b[39m.\u001b[39;00m\u001b[39mnp\u001b[39;00m\u001b[39m.\u001b[39;00m\u001b[39mufunc\u001b[39;00m \u001b[39mimport\u001b[39;00m (vectorize, guvectorize, threading_layer,\n\u001b[1;32m     43\u001b[0m                             get_num_threads, set_num_threads)\n",
      "File \u001b[0;32m/opt/miniconda3/envs/AIgames/lib/python3.8/site-packages/numba/core/decorators.py:12\u001b[0m, in \u001b[0;36m<module>\u001b[0;34m\u001b[0m\n\u001b[1;32m      9\u001b[0m \u001b[39mimport\u001b[39;00m \u001b[39mlogging\u001b[39;00m\n\u001b[1;32m     11\u001b[0m \u001b[39mfrom\u001b[39;00m \u001b[39mnumba\u001b[39;00m\u001b[39m.\u001b[39;00m\u001b[39mcore\u001b[39;00m\u001b[39m.\u001b[39;00m\u001b[39merrors\u001b[39;00m \u001b[39mimport\u001b[39;00m DeprecationError, NumbaDeprecationWarning\n\u001b[0;32m---> 12\u001b[0m \u001b[39mfrom\u001b[39;00m \u001b[39mnumba\u001b[39;00m\u001b[39m.\u001b[39;00m\u001b[39mstencils\u001b[39;00m\u001b[39m.\u001b[39;00m\u001b[39mstencil\u001b[39;00m \u001b[39mimport\u001b[39;00m stencil\n\u001b[1;32m     13\u001b[0m \u001b[39mfrom\u001b[39;00m \u001b[39mnumba\u001b[39;00m\u001b[39m.\u001b[39;00m\u001b[39mcore\u001b[39;00m \u001b[39mimport\u001b[39;00m config, extending, sigutils, registry\n\u001b[1;32m     15\u001b[0m _logger \u001b[39m=\u001b[39m logging\u001b[39m.\u001b[39mgetLogger(\u001b[39m__name__\u001b[39m)\n",
      "File \u001b[0;32m/opt/miniconda3/envs/AIgames/lib/python3.8/site-packages/numba/stencils/stencil.py:11\u001b[0m, in \u001b[0;36m<module>\u001b[0;34m\u001b[0m\n\u001b[1;32m      8\u001b[0m \u001b[39mimport\u001b[39;00m \u001b[39mnumpy\u001b[39;00m \u001b[39mas\u001b[39;00m \u001b[39mnp\u001b[39;00m\n\u001b[1;32m      9\u001b[0m \u001b[39mfrom\u001b[39;00m \u001b[39mllvmlite\u001b[39;00m \u001b[39mimport\u001b[39;00m ir \u001b[39mas\u001b[39;00m lir\n\u001b[0;32m---> 11\u001b[0m \u001b[39mfrom\u001b[39;00m \u001b[39mnumba\u001b[39;00m\u001b[39m.\u001b[39;00m\u001b[39mcore\u001b[39;00m \u001b[39mimport\u001b[39;00m types, typing, utils, ir, config, ir_utils, registry\n\u001b[1;32m     12\u001b[0m \u001b[39mfrom\u001b[39;00m \u001b[39mnumba\u001b[39;00m\u001b[39m.\u001b[39;00m\u001b[39mcore\u001b[39;00m\u001b[39m.\u001b[39;00m\u001b[39mtyping\u001b[39;00m\u001b[39m.\u001b[39;00m\u001b[39mtemplates\u001b[39;00m \u001b[39mimport\u001b[39;00m (CallableTemplate, signature,\n\u001b[1;32m     13\u001b[0m                                          infer_global, AbstractTemplate)\n\u001b[1;32m     14\u001b[0m \u001b[39mfrom\u001b[39;00m \u001b[39mnumba\u001b[39;00m\u001b[39m.\u001b[39;00m\u001b[39mcore\u001b[39;00m\u001b[39m.\u001b[39;00m\u001b[39mimputils\u001b[39;00m \u001b[39mimport\u001b[39;00m lower_builtin\n",
      "File \u001b[0;32m/opt/miniconda3/envs/AIgames/lib/python3.8/site-packages/numba/core/ir_utils.py:16\u001b[0m, in \u001b[0;36m<module>\u001b[0;34m\u001b[0m\n\u001b[1;32m     13\u001b[0m \u001b[39mfrom\u001b[39;00m \u001b[39mllvmlite\u001b[39;00m \u001b[39mimport\u001b[39;00m ir \u001b[39mas\u001b[39;00m lir\n\u001b[1;32m     15\u001b[0m \u001b[39mimport\u001b[39;00m \u001b[39mnumba\u001b[39;00m\n\u001b[0;32m---> 16\u001b[0m \u001b[39mfrom\u001b[39;00m \u001b[39mnumba\u001b[39;00m\u001b[39m.\u001b[39;00m\u001b[39mcore\u001b[39;00m\u001b[39m.\u001b[39;00m\u001b[39mextending\u001b[39;00m \u001b[39mimport\u001b[39;00m _Intrinsic\n\u001b[1;32m     17\u001b[0m \u001b[39mfrom\u001b[39;00m \u001b[39mnumba\u001b[39;00m\u001b[39m.\u001b[39;00m\u001b[39mcore\u001b[39;00m \u001b[39mimport\u001b[39;00m types, utils, typing, ir, analysis, postproc, rewrites, config, cgutils\n\u001b[1;32m     18\u001b[0m \u001b[39mfrom\u001b[39;00m \u001b[39mnumba\u001b[39;00m\u001b[39m.\u001b[39;00m\u001b[39mcore\u001b[39;00m\u001b[39m.\u001b[39;00m\u001b[39mtyping\u001b[39;00m\u001b[39m.\u001b[39;00m\u001b[39mtemplates\u001b[39;00m \u001b[39mimport\u001b[39;00m (signature, infer_global,\n\u001b[1;32m     19\u001b[0m                                          AbstractTemplate)\n",
      "File \u001b[0;32m/opt/miniconda3/envs/AIgames/lib/python3.8/site-packages/numba/core/extending.py:19\u001b[0m, in \u001b[0;36m<module>\u001b[0;34m\u001b[0m\n\u001b[1;32m     17\u001b[0m \u001b[39mfrom\u001b[39;00m \u001b[39mnumba\u001b[39;00m\u001b[39m.\u001b[39;00m\u001b[39mcore\u001b[39;00m\u001b[39m.\u001b[39;00m\u001b[39mdatamodel\u001b[39;00m \u001b[39mimport\u001b[39;00m models   \u001b[39m# noqa: F401\u001b[39;00m\n\u001b[1;32m     18\u001b[0m \u001b[39mfrom\u001b[39;00m \u001b[39mnumba\u001b[39;00m\u001b[39m.\u001b[39;00m\u001b[39mcore\u001b[39;00m\u001b[39m.\u001b[39;00m\u001b[39mdatamodel\u001b[39;00m \u001b[39mimport\u001b[39;00m register_default \u001b[39mas\u001b[39;00m register_model  \u001b[39m# noqa: F401, E501\u001b[39;00m\n\u001b[0;32m---> 19\u001b[0m \u001b[39mfrom\u001b[39;00m \u001b[39mnumba\u001b[39;00m\u001b[39m.\u001b[39;00m\u001b[39mcore\u001b[39;00m\u001b[39m.\u001b[39;00m\u001b[39mpythonapi\u001b[39;00m \u001b[39mimport\u001b[39;00m box, unbox, reflect, NativeValue  \u001b[39m# noqa: F401\u001b[39;00m\n\u001b[1;32m     20\u001b[0m \u001b[39mfrom\u001b[39;00m \u001b[39mnumba\u001b[39;00m\u001b[39m.\u001b[39;00m\u001b[39m_helperlib\u001b[39;00m \u001b[39mimport\u001b[39;00m _import_cython_function  \u001b[39m# noqa: F401\u001b[39;00m\n\u001b[1;32m     21\u001b[0m \u001b[39mfrom\u001b[39;00m \u001b[39mnumba\u001b[39;00m\u001b[39m.\u001b[39;00m\u001b[39mcore\u001b[39;00m\u001b[39m.\u001b[39;00m\u001b[39mserialize\u001b[39;00m \u001b[39mimport\u001b[39;00m ReduceMixin\n",
      "File \u001b[0;32m/opt/miniconda3/envs/AIgames/lib/python3.8/site-packages/numba/core/pythonapi.py:12\u001b[0m, in \u001b[0;36m<module>\u001b[0;34m\u001b[0m\n\u001b[1;32m      9\u001b[0m \u001b[39mimport\u001b[39;00m \u001b[39mllvmlite\u001b[39;00m\u001b[39m.\u001b[39;00m\u001b[39mllvmpy\u001b[39;00m\u001b[39m.\u001b[39;00m\u001b[39mcore\u001b[39;00m \u001b[39mas\u001b[39;00m \u001b[39mlc\u001b[39;00m\n\u001b[1;32m     11\u001b[0m \u001b[39mimport\u001b[39;00m \u001b[39mctypes\u001b[39;00m\n\u001b[0;32m---> 12\u001b[0m \u001b[39mfrom\u001b[39;00m \u001b[39mnumba\u001b[39;00m \u001b[39mimport\u001b[39;00m _helperlib\n\u001b[1;32m     13\u001b[0m \u001b[39mfrom\u001b[39;00m \u001b[39mnumba\u001b[39;00m\u001b[39m.\u001b[39;00m\u001b[39mcore\u001b[39;00m \u001b[39mimport\u001b[39;00m (\n\u001b[1;32m     14\u001b[0m     types, utils, config, lowering, cgutils, imputils, serialize,\n\u001b[1;32m     15\u001b[0m )\n\u001b[1;32m     17\u001b[0m PY_UNICODE_1BYTE_KIND \u001b[39m=\u001b[39m _helperlib\u001b[39m.\u001b[39mpy_unicode_1byte_kind\n",
      "\u001b[0;31mImportError\u001b[0m: numpy.core.multiarray failed to import"
     ]
    }
   ],
   "source": [
    "from utils import frechet"
   ]
  },
  {
   "cell_type": "code",
   "execution_count": null,
   "metadata": {},
   "outputs": [],
   "source": []
  }
 ],
 "metadata": {
  "kernelspec": {
   "display_name": "Python 3.8.15 ('AIgames')",
   "language": "python",
   "name": "python3"
  },
  "language_info": {
   "codemirror_mode": {
    "name": "ipython",
    "version": 3
   },
   "file_extension": ".py",
   "mimetype": "text/x-python",
   "name": "python",
   "nbconvert_exporter": "python",
   "pygments_lexer": "ipython3",
   "version": "3.8.15"
  },
  "orig_nbformat": 4,
  "vscode": {
   "interpreter": {
    "hash": "d48dafc1293070b23e15281be0ada38d49f48744678c9a4c6487f3f963611041"
   }
  }
 },
 "nbformat": 4,
 "nbformat_minor": 2
}
